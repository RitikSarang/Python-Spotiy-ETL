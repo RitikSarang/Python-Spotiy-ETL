{
 "cells": [
  {
   "cell_type": "code",
   "execution_count": 1,
   "id": "318d5c55-da0c-432a-8fd1-00d22245e446",
   "metadata": {},
   "outputs": [],
   "source": [
    "#!pip install spotipy"
   ]
  },
  {
   "cell_type": "code",
   "execution_count": 2,
   "id": "bf11eb4f-b6ec-4b2d-933d-b603f63bfb4a",
   "metadata": {},
   "outputs": [],
   "source": [
    "import spotipy\n",
    "from spotipy.oauth2 import SpotifyClientCredentials\n",
    "import pandas as pd\n",
    "import json\n",
    "from datetime import date"
   ]
  },
  {
   "cell_type": "code",
   "execution_count": 3,
   "id": "11279cd0-f10d-4bcd-9450-de749912cad8",
   "metadata": {},
   "outputs": [
    {
     "name": "stdout",
     "output_type": "stream",
     "text": [
      "C:/Users/bhara/Desktop/Data engineering/Python/Day 1/credet_2024-07-28.json\n"
     ]
    }
   ],
   "source": [
    "filename=f\"C:/Users/bhara/Desktop/Data engineering/Python/Day 1/credet_{date.today()}.json\"\n",
    "print(filename)\n",
    "\n",
    "with open(filename,'r') as f:\n",
    "    credetdata=json.load(f)\n",
    "\n",
    "client_id=credetdata[\"client_id\"]\n",
    "client_secret=credetdata[\"client_secret\"]\n",
    "#add your keys here\n",
    "#Authentiaction\n",
    "client_credentials_manager = SpotifyClientCredentials(client_id=client_id, client_secret=client_secret)\n",
    "#Authorization\n",
    "sp = spotipy.Spotify(client_credentials_manager = client_credentials_manager)"
   ]
  },
  {
   "cell_type": "code",
   "execution_count": 4,
   "id": "76607b73-c134-402c-85ed-7c98fb4ac2c6",
   "metadata": {},
   "outputs": [],
   "source": [
    "playlist_link = \"https://open.spotify.com/playlist/37i9dQZF1DX0XUfTFmNBRM\"\n",
    "playlist_URI = playlist_link.split('/')[-1]\n",
    "data = sp.playlist_tracks(playlist_URI)"
   ]
  },
  {
   "cell_type": "code",
   "execution_count": 5,
   "id": "51cac97e-0b89-4076-9a72-86fdb2f0bbc3",
   "metadata": {},
   "outputs": [
    {
     "data": {
      "text/plain": [
       "['Tauba Tauba (From \"Bad Newz\")',\n",
       " 'Dekhha Tenu (From \"Mr. And Mrs. Mahi\")',\n",
       " 'Soni Soni (From \"Ishq Vishk Rebound\")',\n",
       " 'Jaanam (From \"Bad Newz\")',\n",
       " 'Taras (From \"Munjya\")']"
      ]
     },
     "execution_count": 5,
     "metadata": {},
     "output_type": "execute_result"
    }
   ],
   "source": [
    "#Song Names\n",
    "song_name_ls = []\n",
    "for items in data['items']:\n",
    "   song_name_ls.append(items['track']['album']['name'])\n",
    "\n",
    "song_name_ls[0:5]"
   ]
  },
  {
   "cell_type": "code",
   "execution_count": 6,
   "id": "ae63adac-1b79-4c8e-b2f1-204362c159ed",
   "metadata": {},
   "outputs": [
    {
     "data": {
      "text/plain": [
       "['single', 'single', 'single', 'single', 'single']"
      ]
     },
     "execution_count": 6,
     "metadata": {},
     "output_type": "execute_result"
    }
   ],
   "source": [
    "#Album type\n",
    "album_type_ls=[]\n",
    "for items in data['items']:\n",
    "    album_type_ls.append(items['track']['album']['album_type'])\n",
    "\n",
    "album_type_ls[0:5]"
   ]
  },
  {
   "cell_type": "code",
   "execution_count": 7,
   "id": "0e8a301b-d74e-441c-a38d-96817e8632ea",
   "metadata": {},
   "outputs": [
    {
     "data": {
      "text/plain": [
       "['16kiQQ4BoLHDyj5W2fkfNK',\n",
       " '34Fh4HXZmnuBdtgejWUZg2',\n",
       " '36N5awamOX6XX5pQn3aFXZ',\n",
       " '7bzR0C8NhnBA79iTXUCJ7o',\n",
       " '6t9KM2EQD4H2KbrTgHGYf3']"
      ]
     },
     "execution_count": 7,
     "metadata": {},
     "output_type": "execute_result"
    }
   ],
   "source": [
    "#Track ID type\n",
    "tracl_id_ls=[]\n",
    "for items in data['items']:\n",
    "    tracl_id_ls.append(items['track']['id'])\n",
    "tracl_id_ls[0:5]"
   ]
  },
  {
   "cell_type": "code",
   "execution_count": 8,
   "id": "dec146de-5a5d-43e7-bff0-375e215e00a4",
   "metadata": {},
   "outputs": [
    {
     "data": {
      "text/plain": [
       "['72nKBrp0K6Nv6Q76TmEWLY',\n",
       " '1C3FmwSQAbjnZR6GRgnWQc',\n",
       " '3vBso6gFPmEwstdMXn3Ahi',\n",
       " '75lhBPvfb1RqeiuRZ6hOHN',\n",
       " '0sEowDRNDEVD8T31onRthr']"
      ]
     },
     "execution_count": 8,
     "metadata": {},
     "output_type": "execute_result"
    }
   ],
   "source": [
    "#Album ID type\n",
    "album_id_ls=[]\n",
    "for items in data['items']:\n",
    "    album_id_ls.append(items['track']['album']['id'])\n",
    "    \n",
    "album_id_ls[0:5]"
   ]
  },
  {
   "cell_type": "code",
   "execution_count": 9,
   "id": "d135b2a1-ab49-4ea0-99a1-e03bba528556",
   "metadata": {},
   "outputs": [
    {
     "data": {
      "text/plain": [
       "['2024-07-02', '2024-05-14', '2024-05-24', '2024-07-09', '2024-05-27']"
      ]
     },
     "execution_count": 9,
     "metadata": {},
     "output_type": "execute_result"
    }
   ],
   "source": [
    "song_release_date_ls = []\n",
    "\n",
    "for items in data['items']:\n",
    "    song_release_date_ls.append(items['track']['album']['release_date'])\n",
    "\n",
    "song_release_date_ls[0:5]"
   ]
  },
  {
   "cell_type": "code",
   "execution_count": 10,
   "id": "34c3ae89-8560-4a76-b117-b9b3783e8be4",
   "metadata": {},
   "outputs": [
    {
     "data": {
      "text/plain": [
       "[81, 80, 79, 70, 73]"
      ]
     },
     "execution_count": 10,
     "metadata": {},
     "output_type": "execute_result"
    }
   ],
   "source": [
    "popularity_of_song_ls = []\n",
    "\n",
    "for items in data['items']:\n",
    "    popularity_of_song_ls.append(items['track']['popularity'])\n",
    "\n",
    "popularity_of_song_ls[0:5]"
   ]
  },
  {
   "cell_type": "code",
   "execution_count": 11,
   "id": "e037e096-3a58-43da-8b16-ddd03c921eb8",
   "metadata": {},
   "outputs": [
    {
     "data": {
      "text/plain": [
       "[207157, 281511, 176875, 198035, 188814]"
      ]
     },
     "execution_count": 11,
     "metadata": {},
     "output_type": "execute_result"
    }
   ],
   "source": [
    "duration_ms_ls = []\n",
    "\n",
    "for items in data['items']:\n",
    "    duration_ms_ls.append(items['track']['duration_ms'])\n",
    "\n",
    "duration_ms_ls[0:5]"
   ]
  },
  {
   "cell_type": "code",
   "execution_count": 12,
   "id": "ba578058-0f8a-4cf8-8d88-5c906a459b76",
   "metadata": {},
   "outputs": [],
   "source": [
    "song_dict = ({\n",
    "    'Song_name':song_name_ls,\n",
    "    'Song_release_date':song_release_date_ls,\n",
    "    'Popularity_of_song':popularity_of_song_ls,\n",
    "    'Duration_ms':duration_ms_ls,\n",
    "    'Album_type':album_type_ls,\n",
    "    'Track_id':tracl_id_ls,\n",
    "    'Album_id':album_id_ls\n",
    "})"
   ]
  },
  {
   "cell_type": "code",
   "execution_count": 13,
   "id": "24e2e29f-8b6c-4c39-96b6-939c50bd846b",
   "metadata": {},
   "outputs": [],
   "source": [
    "df = pd.DataFrame.from_dict(song_dict)\n",
    "df.head()\n",
    "df['Song_release_date']=pd.to_datetime(df['Song_release_date'])\n",
    "df['Duration_ms'] = pd.to_timedelta(df['Duration_ms'], unit='ms')\n",
    "file_name_tocsv = f\"C:/Users/bhara/Desktop/Data engineering/Python/Day 1/Spotiy_data_{date.today()}.csv\"\n",
    "df.to_csv(file_name_tocsv,index=False,header=True)"
   ]
  },
  {
   "cell_type": "code",
   "execution_count": 14,
   "id": "08958429-f4d0-4797-9675-1d55a19d0b40",
   "metadata": {},
   "outputs": [
    {
     "data": {
      "text/html": [
       "<div>\n",
       "<style scoped>\n",
       "    .dataframe tbody tr th:only-of-type {\n",
       "        vertical-align: middle;\n",
       "    }\n",
       "\n",
       "    .dataframe tbody tr th {\n",
       "        vertical-align: top;\n",
       "    }\n",
       "\n",
       "    .dataframe thead th {\n",
       "        text-align: right;\n",
       "    }\n",
       "</style>\n",
       "<table border=\"1\" class=\"dataframe\">\n",
       "  <thead>\n",
       "    <tr style=\"text-align: right;\">\n",
       "      <th></th>\n",
       "      <th>Song_name</th>\n",
       "      <th>Song_release_date</th>\n",
       "      <th>Popularity_of_song</th>\n",
       "      <th>Duration_ms</th>\n",
       "      <th>Album_type</th>\n",
       "      <th>Track_id</th>\n",
       "      <th>Album_id</th>\n",
       "    </tr>\n",
       "  </thead>\n",
       "  <tbody>\n",
       "    <tr>\n",
       "      <th>0</th>\n",
       "      <td>Tauba Tauba (From \"Bad Newz\")</td>\n",
       "      <td>2024-07-02</td>\n",
       "      <td>81</td>\n",
       "      <td>0 days 00:03:27.157000</td>\n",
       "      <td>single</td>\n",
       "      <td>16kiQQ4BoLHDyj5W2fkfNK</td>\n",
       "      <td>72nKBrp0K6Nv6Q76TmEWLY</td>\n",
       "    </tr>\n",
       "    <tr>\n",
       "      <th>1</th>\n",
       "      <td>Dekhha Tenu (From \"Mr. And Mrs. Mahi\")</td>\n",
       "      <td>2024-05-14</td>\n",
       "      <td>80</td>\n",
       "      <td>0 days 00:04:41.511000</td>\n",
       "      <td>single</td>\n",
       "      <td>34Fh4HXZmnuBdtgejWUZg2</td>\n",
       "      <td>1C3FmwSQAbjnZR6GRgnWQc</td>\n",
       "    </tr>\n",
       "  </tbody>\n",
       "</table>\n",
       "</div>"
      ],
      "text/plain": [
       "                                Song_name Song_release_date  \\\n",
       "0           Tauba Tauba (From \"Bad Newz\")        2024-07-02   \n",
       "1  Dekhha Tenu (From \"Mr. And Mrs. Mahi\")        2024-05-14   \n",
       "\n",
       "   Popularity_of_song            Duration_ms Album_type  \\\n",
       "0                  81 0 days 00:03:27.157000     single   \n",
       "1                  80 0 days 00:04:41.511000     single   \n",
       "\n",
       "                 Track_id                Album_id  \n",
       "0  16kiQQ4BoLHDyj5W2fkfNK  72nKBrp0K6Nv6Q76TmEWLY  \n",
       "1  34Fh4HXZmnuBdtgejWUZg2  1C3FmwSQAbjnZR6GRgnWQc  "
      ]
     },
     "execution_count": 14,
     "metadata": {},
     "output_type": "execute_result"
    }
   ],
   "source": [
    "df.sort_values(by='Popularity_of_song',ascending=False)\n",
    "df.head(2)"
   ]
  },
  {
   "cell_type": "code",
   "execution_count": 15,
   "id": "58d81df7-55c6-47cd-8409-1d419c6b9d12",
   "metadata": {},
   "outputs": [
    {
     "data": {
      "text/html": [
       "<div>\n",
       "<style scoped>\n",
       "    .dataframe tbody tr th:only-of-type {\n",
       "        vertical-align: middle;\n",
       "    }\n",
       "\n",
       "    .dataframe tbody tr th {\n",
       "        vertical-align: top;\n",
       "    }\n",
       "\n",
       "    .dataframe thead th {\n",
       "        text-align: right;\n",
       "    }\n",
       "</style>\n",
       "<table border=\"1\" class=\"dataframe\">\n",
       "  <thead>\n",
       "    <tr style=\"text-align: right;\">\n",
       "      <th></th>\n",
       "      <th>Song_name</th>\n",
       "      <th>Song_release_date</th>\n",
       "      <th>Popularity_of_song</th>\n",
       "      <th>Duration_ms</th>\n",
       "      <th>Album_type</th>\n",
       "      <th>Track_id</th>\n",
       "      <th>Album_id</th>\n",
       "    </tr>\n",
       "  </thead>\n",
       "  <tbody>\n",
       "  </tbody>\n",
       "</table>\n",
       "</div>"
      ],
      "text/plain": [
       "Empty DataFrame\n",
       "Columns: [Song_name, Song_release_date, Popularity_of_song, Duration_ms, Album_type, Track_id, Album_id]\n",
       "Index: []"
      ]
     },
     "execution_count": 15,
     "metadata": {},
     "output_type": "execute_result"
    }
   ],
   "source": [
    "album = df['Album_type'].str.contains('album')\n",
    "df[album].head(0)"
   ]
  },
  {
   "cell_type": "code",
   "execution_count": 33,
   "id": "31cb4706-740e-4305-a4cc-8fc7d7850618",
   "metadata": {},
   "outputs": [],
   "source": [
    "artist_list=[]\n",
    "for rows in data['items']:\n",
    "    for tkey,tvalues in rows.items():\n",
    "        if(tkey=='track'):\n",
    "            for akey,avalues in tvalues.items():\n",
    "                if(akey=='artists'):\n",
    "                    for akalues in avalues:\n",
    "                        artist_dict = {'artist_id':akalues['id'], 'artist_name':akalues['name'],'artist_type':akalues['type'], 'external_url': akalues['href']}\n",
    "                        artist_list.append(artist_dict)\n",
    "\n",
    "\n",
    "len(artist_list)\n",
    "artist_list[0:5]\n",
    "\n",
    "artist_file_name=f\"C:/Users/bhara/Desktop/Data engineering/Python/Day 1/Spotiy_artist_data_{date.today()}.csv\"\n",
    "artist_df = pd.DataFrame.from_dict(artist_list)\n",
    "artist_df.drop_duplicates(subset=['artist_id'],inplace=True)\n",
    "artist_df.drop_duplicates(subset=['artist_name'],inplace=True)\n",
    "artist_df.to_csv(artist_file_name,index=False,header=True)\n"
   ]
  }
 ],
 "metadata": {
  "kernelspec": {
   "display_name": "Python 3 (ipykernel)",
   "language": "python",
   "name": "python3"
  },
  "language_info": {
   "codemirror_mode": {
    "name": "ipython",
    "version": 3
   },
   "file_extension": ".py",
   "mimetype": "text/x-python",
   "name": "python",
   "nbconvert_exporter": "python",
   "pygments_lexer": "ipython3",
   "version": "3.11.7"
  }
 },
 "nbformat": 4,
 "nbformat_minor": 5
}
